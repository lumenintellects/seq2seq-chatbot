{
 "cells": [
  {
   "cell_type": "markdown",
   "metadata": {},
   "source": [
    "# Import Required Libraries\n",
    "Import the necessary libraries, including TensorFlow, pandas, and NumPy."
   ]
  },
  {
   "cell_type": "code",
   "execution_count": 11,
   "metadata": {},
   "outputs": [],
   "source": [
    "# Import the necessary libraries\n",
    "from tensorflow.keras.layers import Input, Embedding, LSTM, Dense, Concatenate\n",
    "from tensorflow.keras.models import Model\n",
    "from tensorflow.keras.preprocessing.sequence import pad_sequences\n",
    "from tensorflow.keras.preprocessing.text import Tokenizer\n",
    "import matplotlib.pyplot as plt\n",
    "import numpy as np\n",
    "import pandas as pd\n",
    "import re\n",
    "import tensorflow as tf\n",
    "import time"
   ]
  },
  {
   "cell_type": "markdown",
   "metadata": {},
   "source": [
    "# Load the WikiQA Dataset\n",
    "Load the WikiQA Corpus dataset into a pandas DataFrame."
   ]
  },
  {
   "cell_type": "code",
   "execution_count": 12,
   "metadata": {},
   "outputs": [],
   "source": [
    "# Load the dataset into a pandas DataFrame\n",
    "wikiqa_df = pd.read_csv(\"wikiqa.csv\")"
   ]
  },
  {
   "cell_type": "code",
   "execution_count": 13,
   "metadata": {},
   "outputs": [
    {
     "data": {
      "text/html": [
       "<div>\n",
       "<style scoped>\n",
       "    .dataframe tbody tr th:only-of-type {\n",
       "        vertical-align: middle;\n",
       "    }\n",
       "\n",
       "    .dataframe tbody tr th {\n",
       "        vertical-align: top;\n",
       "    }\n",
       "\n",
       "    .dataframe thead th {\n",
       "        text-align: right;\n",
       "    }\n",
       "</style>\n",
       "<table border=\"1\" class=\"dataframe\">\n",
       "  <thead>\n",
       "    <tr style=\"text-align: right;\">\n",
       "      <th></th>\n",
       "      <th>QuestionID</th>\n",
       "      <th>Question</th>\n",
       "      <th>DocumentID</th>\n",
       "      <th>DocumentTitle</th>\n",
       "      <th>SentenceID</th>\n",
       "      <th>Sentence</th>\n",
       "      <th>Label</th>\n",
       "    </tr>\n",
       "  </thead>\n",
       "  <tbody>\n",
       "    <tr>\n",
       "      <th>0</th>\n",
       "      <td>Q0</td>\n",
       "      <td>HOW AFRICAN AMERICANS WERE IMMIGRATED TO THE US</td>\n",
       "      <td>D0</td>\n",
       "      <td>African immigration to the United States</td>\n",
       "      <td>D0-0</td>\n",
       "      <td>African immigration to the United States refer...</td>\n",
       "      <td>0</td>\n",
       "    </tr>\n",
       "    <tr>\n",
       "      <th>1</th>\n",
       "      <td>Q0</td>\n",
       "      <td>HOW AFRICAN AMERICANS WERE IMMIGRATED TO THE US</td>\n",
       "      <td>D0</td>\n",
       "      <td>African immigration to the United States</td>\n",
       "      <td>D0-1</td>\n",
       "      <td>The term African in the scope of this article ...</td>\n",
       "      <td>0</td>\n",
       "    </tr>\n",
       "    <tr>\n",
       "      <th>2</th>\n",
       "      <td>Q0</td>\n",
       "      <td>HOW AFRICAN AMERICANS WERE IMMIGRATED TO THE US</td>\n",
       "      <td>D0</td>\n",
       "      <td>African immigration to the United States</td>\n",
       "      <td>D0-2</td>\n",
       "      <td>From the Immigration and Nationality Act of 19...</td>\n",
       "      <td>0</td>\n",
       "    </tr>\n",
       "    <tr>\n",
       "      <th>3</th>\n",
       "      <td>Q0</td>\n",
       "      <td>HOW AFRICAN AMERICANS WERE IMMIGRATED TO THE US</td>\n",
       "      <td>D0</td>\n",
       "      <td>African immigration to the United States</td>\n",
       "      <td>D0-3</td>\n",
       "      <td>African immigrants in the United States come f...</td>\n",
       "      <td>0</td>\n",
       "    </tr>\n",
       "    <tr>\n",
       "      <th>4</th>\n",
       "      <td>Q0</td>\n",
       "      <td>HOW AFRICAN AMERICANS WERE IMMIGRATED TO THE US</td>\n",
       "      <td>D0</td>\n",
       "      <td>African immigration to the United States</td>\n",
       "      <td>D0-4</td>\n",
       "      <td>They include people from different national, l...</td>\n",
       "      <td>0</td>\n",
       "    </tr>\n",
       "  </tbody>\n",
       "</table>\n",
       "</div>"
      ],
      "text/plain": [
       "  QuestionID                                         Question DocumentID  \\\n",
       "0         Q0  HOW AFRICAN AMERICANS WERE IMMIGRATED TO THE US         D0   \n",
       "1         Q0  HOW AFRICAN AMERICANS WERE IMMIGRATED TO THE US         D0   \n",
       "2         Q0  HOW AFRICAN AMERICANS WERE IMMIGRATED TO THE US         D0   \n",
       "3         Q0  HOW AFRICAN AMERICANS WERE IMMIGRATED TO THE US         D0   \n",
       "4         Q0  HOW AFRICAN AMERICANS WERE IMMIGRATED TO THE US         D0   \n",
       "\n",
       "                              DocumentTitle SentenceID  \\\n",
       "0  African immigration to the United States       D0-0   \n",
       "1  African immigration to the United States       D0-1   \n",
       "2  African immigration to the United States       D0-2   \n",
       "3  African immigration to the United States       D0-3   \n",
       "4  African immigration to the United States       D0-4   \n",
       "\n",
       "                                            Sentence  Label  \n",
       "0  African immigration to the United States refer...      0  \n",
       "1  The term African in the scope of this article ...      0  \n",
       "2  From the Immigration and Nationality Act of 19...      0  \n",
       "3  African immigrants in the United States come f...      0  \n",
       "4  They include people from different national, l...      0  "
      ]
     },
     "execution_count": 13,
     "metadata": {},
     "output_type": "execute_result"
    }
   ],
   "source": [
    "# Display the first few rows of the dataset to understand its structure\n",
    "wikiqa_df.head()"
   ]
  },
  {
   "cell_type": "markdown",
   "metadata": {},
   "source": [
    "# Explore the Dataset\n",
    "Perform basic exploratory data analysis (EDA) to understand the structure and content of the dataset."
   ]
  },
  {
   "cell_type": "code",
   "execution_count": 14,
   "metadata": {},
   "outputs": [
    {
     "name": "stdout",
     "output_type": "stream",
     "text": [
      "<class 'pandas.core.frame.DataFrame'>\n",
      "RangeIndex: 29208 entries, 0 to 29207\n",
      "Data columns (total 7 columns):\n",
      " #   Column         Non-Null Count  Dtype \n",
      "---  ------         --------------  ----- \n",
      " 0   QuestionID     29208 non-null  object\n",
      " 1   Question       29208 non-null  object\n",
      " 2   DocumentID     29208 non-null  object\n",
      " 3   DocumentTitle  29208 non-null  object\n",
      " 4   SentenceID     29208 non-null  object\n",
      " 5   Sentence       29208 non-null  object\n",
      " 6   Label          29208 non-null  int64 \n",
      "dtypes: int64(1), object(6)\n",
      "memory usage: 1.6+ MB\n"
     ]
    }
   ],
   "source": [
    "# Display basic information about the dataset\n",
    "wikiqa_df.info()"
   ]
  },
  {
   "cell_type": "code",
   "execution_count": 15,
   "metadata": {},
   "outputs": [
    {
     "data": {
      "text/html": [
       "<div>\n",
       "<style scoped>\n",
       "    .dataframe tbody tr th:only-of-type {\n",
       "        vertical-align: middle;\n",
       "    }\n",
       "\n",
       "    .dataframe tbody tr th {\n",
       "        vertical-align: top;\n",
       "    }\n",
       "\n",
       "    .dataframe thead th {\n",
       "        text-align: right;\n",
       "    }\n",
       "</style>\n",
       "<table border=\"1\" class=\"dataframe\">\n",
       "  <thead>\n",
       "    <tr style=\"text-align: right;\">\n",
       "      <th></th>\n",
       "      <th>Label</th>\n",
       "    </tr>\n",
       "  </thead>\n",
       "  <tbody>\n",
       "    <tr>\n",
       "      <th>count</th>\n",
       "      <td>29208.000000</td>\n",
       "    </tr>\n",
       "    <tr>\n",
       "      <th>mean</th>\n",
       "      <td>0.050294</td>\n",
       "    </tr>\n",
       "    <tr>\n",
       "      <th>std</th>\n",
       "      <td>0.218556</td>\n",
       "    </tr>\n",
       "    <tr>\n",
       "      <th>min</th>\n",
       "      <td>0.000000</td>\n",
       "    </tr>\n",
       "    <tr>\n",
       "      <th>25%</th>\n",
       "      <td>0.000000</td>\n",
       "    </tr>\n",
       "    <tr>\n",
       "      <th>50%</th>\n",
       "      <td>0.000000</td>\n",
       "    </tr>\n",
       "    <tr>\n",
       "      <th>75%</th>\n",
       "      <td>0.000000</td>\n",
       "    </tr>\n",
       "    <tr>\n",
       "      <th>max</th>\n",
       "      <td>1.000000</td>\n",
       "    </tr>\n",
       "  </tbody>\n",
       "</table>\n",
       "</div>"
      ],
      "text/plain": [
       "              Label\n",
       "count  29208.000000\n",
       "mean       0.050294\n",
       "std        0.218556\n",
       "min        0.000000\n",
       "25%        0.000000\n",
       "50%        0.000000\n",
       "75%        0.000000\n",
       "max        1.000000"
      ]
     },
     "execution_count": 15,
     "metadata": {},
     "output_type": "execute_result"
    }
   ],
   "source": [
    "# Display summary statistics of the dataset\n",
    "wikiqa_df.describe()"
   ]
  },
  {
   "cell_type": "code",
   "execution_count": 16,
   "metadata": {},
   "outputs": [
    {
     "data": {
      "text/plain": [
       "QuestionID       0\n",
       "Question         0\n",
       "DocumentID       0\n",
       "DocumentTitle    0\n",
       "SentenceID       0\n",
       "Sentence         0\n",
       "Label            0\n",
       "dtype: int64"
      ]
     },
     "execution_count": 16,
     "metadata": {},
     "output_type": "execute_result"
    }
   ],
   "source": [
    "# Check for missing values in the dataset\n",
    "wikiqa_df.isnull().sum()"
   ]
  },
  {
   "cell_type": "code",
   "execution_count": 18,
   "metadata": {},
   "outputs": [
    {
     "data": {
      "text/plain": [
       "<Axes: title={'center': 'Distribution of Labels'}, xlabel='Label'>"
      ]
     },
     "execution_count": 18,
     "metadata": {},
     "output_type": "execute_result"
    },
    {
     "data": {
      "image/png": "[encoded data removed]",
      "text/plain": [
       "<Figure size 640x480 with 1 Axes>"
      ]
     },
     "metadata": {},
     "output_type": "display_data"
    }
   ],
   "source": [
    "# Display the distribution of the target variable\n",
    "wikiqa_df['Label'].value_counts().plot(kind='bar', title='Distribution of Labels')"
   ]
  },
  {
   "cell_type": "code",
   "execution_count": 19,
   "metadata": {},
   "outputs": [
    {
     "name": "stdout",
     "output_type": "stream",
     "text": [
      "Number of unique questions: 3044\n"
     ]
    }
   ],
   "source": [
    "# Display the unique questions in the dataset\n",
    "unique_questions = wikiqa_df['Question'].nunique()\n",
    "print(f'Number of unique questions: {unique_questions}')"
   ]
  },
  {
   "cell_type": "code",
   "execution_count": 20,
   "metadata": {},
   "outputs": [
    {
     "name": "stdout",
     "output_type": "stream",
     "text": [
      "Number of unique sentences: 26166\n"
     ]
    }
   ],
   "source": [
    "# Display the unique sentences in the dataset\n",
    "unique_sentences = wikiqa_df['Sentence'].nunique()\n",
    "print(f'Number of unique sentences: {unique_sentences}')"
   ]
  },
  {
   "cell_type": "code",
   "execution_count": 21,
   "metadata": {},
   "outputs": [
    {
     "name": "stdout",
     "output_type": "stream",
     "text": [
      "Average number of sentences per question: 9.59526938239159\n"
     ]
    }
   ],
   "source": [
    "# Display the average number of sentences per question\n",
    "avg_sentences_per_question = wikiqa_df.groupby('Question')['Sentence'].count().mean()\n",
    "print(f'Average number of sentences per question: {avg_sentences_per_question}')"
   ]
  },
  {
   "cell_type": "code",
   "execution_count": 23,
   "metadata": {},
   "outputs": [
    {
     "name": "stdout",
     "output_type": "stream",
     "text": [
      "Number of duplicate questions: 26164\n"
     ]
    }
   ],
   "source": [
    "# Check for duplicate questions in the dataset\n",
    "duplicate_questions = wikiqa_df['Question'].duplicated().sum()\n",
    "print(f'Number of duplicate questions: {duplicate_questions}')"
   ]
  },
  {
   "cell_type": "code",
   "execution_count": 24,
   "metadata": {},
   "outputs": [
    {
     "name": "stdout",
     "output_type": "stream",
     "text": [
      "Number of duplicate sentences: 3042\n"
     ]
    }
   ],
   "source": [
    "# Check for duplicate sentece in the dataset\n",
    "duplicate_sentences = wikiqa_df['Sentence'].duplicated().sum()\n",
    "print(f'Number of duplicate sentences: {duplicate_sentences}')"
   ]
  },
  {
   "cell_type": "markdown",
   "metadata": {},
   "source": [
    "# Preprocess the Data\n",
    "Preprocess the data by cleaning and tokenizing the text."
   ]
  },
  {
   "cell_type": "code",
   "execution_count": 26,
   "metadata": {},
   "outputs": [
    {
     "name": "stdout",
     "output_type": "stream",
     "text": [
      "[[ 12 568 520 ...   0   0   0]\n",
      " [ 12 568 520 ...   0   0   0]\n",
      " [ 12 568 520 ...   0   0   0]\n",
      " [ 12 568 520 ...   0   0   0]\n",
      " [ 12 568 520 ...   0   0   0]]\n",
      "[[ 568 1422    8 ...    0    0    0]\n",
      " [   1  128  568 ...    0    0    0]\n",
      " [  18    1 1422 ...    0    0    0]\n",
      " [ 568 2035    3 ...    0    0    0]\n",
      " [  70  165   75 ...    0    0    0]]\n"
     ]
    }
   ],
   "source": [
    "# Preprocess the Data\n",
    "\n",
    "# Function to clean text\n",
    "def clean_text(text):\n",
    "    text = text.lower()  # Convert to lowercase\n",
    "    text = re.sub(r'\\d+', '', text)  # Remove digits\n",
    "    text = re.sub(r'\\s+', ' ', text)  # Remove extra spaces\n",
    "    text = re.sub(r'[^\\w\\s]', '', text)  # Remove punctuation\n",
    "    return text\n",
    "\n",
    "# Apply the cleaning function to the questions and sentences\n",
    "wikiqa_df['cleaned_question'] = wikiqa_df['Question'].apply(clean_text)\n",
    "wikiqa_df['cleaned_sentence'] = wikiqa_df['Sentence'].apply(clean_text)\n",
    "\n",
    "# Tokenize the text\n",
    "tokenizer = Tokenizer()\n",
    "tokenizer.fit_on_texts(wikiqa_df['cleaned_question'].tolist() + wikiqa_df['cleaned_sentence'].tolist())\n",
    "\n",
    "# Convert text to sequences\n",
    "question_sequences = tokenizer.texts_to_sequences(wikiqa_df['cleaned_question'].tolist())\n",
    "sentence_sequences = tokenizer.texts_to_sequences(wikiqa_df['cleaned_sentence'].tolist())\n",
    "\n",
    "# Pad the sequences\n",
    "max_length = max(max(len(seq) for seq in question_sequences), max(len(seq) for seq in sentence_sequences))\n",
    "question_padded = pad_sequences(question_sequences, maxlen=max_length, padding='post')\n",
    "sentence_padded = pad_sequences(sentence_sequences, maxlen=max_length, padding='post')\n",
    "\n",
    "# Display the first few rows of the cleaned and tokenized data\n",
    "print(question_padded[:5])\n",
    "print(sentence_padded[:5])"
   ]
  },
  {
   "cell_type": "markdown",
   "metadata": {},
   "source": [
    "# Take 10% Sample of the Data\n",
    "Randomly select 10% of the dataset to test training speed and feasibility."
   ]
  },
  {
   "cell_type": "code",
   "execution_count": null,
   "metadata": {},
   "outputs": [
    {
     "name": "stdout",
     "output_type": "stream",
     "text": [
      "[[  12   43  140 ...    0    0    0]\n",
      " [  17  353    1 ...    0    0    0]\n",
      " [   7    5 3743 ...    0    0    0]\n",
      " [  26    9    1 ...    0    0    0]\n",
      " [  22   24    1 ...    0    0    0]]\n",
      "[[   99  4089 10027 ...     0     0     0]\n",
      " [    3    93     4 ...     0     0     0]\n",
      " [  261     2  1649 ...     0     0     0]\n",
      " [    1    93     9 ...     0     0     0]\n",
      " [ 1368    83     5 ...     0     0     0]]\n"
     ]
    }
   ],
   "source": [
    "# Take 10% Sample of the Data\n",
    "\n",
    "# Set the random seed for reproducibility\n",
    "np.random.seed(42)\n",
    "\n",
    "# Calculate the sample size (10% of the dataset)\n",
    "sample_size = int(len(wikiqa_df) * 0.1)\n",
    "\n",
    "# Randomly select 10% of the dataset\n",
    "sampled_df = wikiqa_df.sample(n=sample_size)\n",
    "\n",
    "# Tokenize the sampled text\n",
    "sampled_question_sequences = tokenizer.texts_to_sequences(sampled_df['cleaned_question'].tolist())\n",
    "sampled_sentence_sequences = tokenizer.texts_to_sequences(sampled_df['cleaned_sentence'].tolist())\n",
    "\n",
    "# Pad the sampled sequences\n",
    "sampled_question_padded = pad_sequences(sampled_question_sequences, maxlen=max_length, padding='post')\n",
    "sampled_sentence_padded = pad_sequences(sampled_sentence_sequences, maxlen=max_length, padding='post')\n",
    "\n",
    "# Display the first few rows of the cleaned and tokenized sampled data\n",
    "print(sampled_question_padded[:5])\n",
    "print(sampled_sentence_padded[:5])"
   ]
  },
  {
   "cell_type": "code",
   "execution_count": 28,
   "metadata": {},
   "outputs": [
    {
     "data": {
      "text/html": [
       "<div>\n",
       "<style scoped>\n",
       "    .dataframe tbody tr th:only-of-type {\n",
       "        vertical-align: middle;\n",
       "    }\n",
       "\n",
       "    .dataframe tbody tr th {\n",
       "        vertical-align: top;\n",
       "    }\n",
       "\n",
       "    .dataframe thead th {\n",
       "        text-align: right;\n",
       "    }\n",
       "</style>\n",
       "<table border=\"1\" class=\"dataframe\">\n",
       "  <thead>\n",
       "    <tr style=\"text-align: right;\">\n",
       "      <th></th>\n",
       "      <th>QuestionID</th>\n",
       "      <th>Question</th>\n",
       "      <th>DocumentID</th>\n",
       "      <th>DocumentTitle</th>\n",
       "      <th>SentenceID</th>\n",
       "      <th>Sentence</th>\n",
       "      <th>Label</th>\n",
       "      <th>cleaned_question</th>\n",
       "      <th>cleaned_sentence</th>\n",
       "    </tr>\n",
       "  </thead>\n",
       "  <tbody>\n",
       "    <tr>\n",
       "      <th>5225</th>\n",
       "      <td>Q514</td>\n",
       "      <td>how do you know if a volcano is extinct</td>\n",
       "      <td>D179</td>\n",
       "      <td>Volcano</td>\n",
       "      <td>D179-9</td>\n",
       "      <td>These so-called \" hotspots \", for example Hawa...</td>\n",
       "      <td>0</td>\n",
       "      <td>how do you know if a volcano is extinct</td>\n",
       "      <td>these socalled  hotspots  for example hawaii a...</td>\n",
       "    </tr>\n",
       "    <tr>\n",
       "      <th>17785</th>\n",
       "      <td>Q1804</td>\n",
       "      <td>Who wrote the song, \"Just the Way You Are\"</td>\n",
       "      <td>D1706</td>\n",
       "      <td>Just the Way You Are</td>\n",
       "      <td>D1706-9</td>\n",
       "      <td>In film and television:</td>\n",
       "      <td>0</td>\n",
       "      <td>who wrote the song just the way you are</td>\n",
       "      <td>in film and television</td>\n",
       "    </tr>\n",
       "    <tr>\n",
       "      <th>22709</th>\n",
       "      <td>Q2332</td>\n",
       "      <td>what is hdmi out</td>\n",
       "      <td>D2195</td>\n",
       "      <td>HDMI</td>\n",
       "      <td>D2195-7</td>\n",
       "      <td>Production of consumer HDMI products started i...</td>\n",
       "      <td>0</td>\n",
       "      <td>what is hdmi out</td>\n",
       "      <td>production of consumer hdmi products started i...</td>\n",
       "    </tr>\n",
       "    <tr>\n",
       "      <th>27558</th>\n",
       "      <td>Q2861</td>\n",
       "      <td>where was the movie unstoppable directed</td>\n",
       "      <td>D2655</td>\n",
       "      <td>Unstoppable (2010 film)</td>\n",
       "      <td>D2655-5</td>\n",
       "      <td>The film was nominated for an Academy Award fo...</td>\n",
       "      <td>0</td>\n",
       "      <td>where was the movie unstoppable directed</td>\n",
       "      <td>the film was nominated for an academy award fo...</td>\n",
       "    </tr>\n",
       "    <tr>\n",
       "      <th>12311</th>\n",
       "      <td>Q1229</td>\n",
       "      <td>when did the trojan war take place</td>\n",
       "      <td>D1177</td>\n",
       "      <td>Trojan War</td>\n",
       "      <td>D1177-16</td>\n",
       "      <td>Whether there is any historical reality behind...</td>\n",
       "      <td>0</td>\n",
       "      <td>when did the trojan war take place</td>\n",
       "      <td>whether there is any historical reality behind...</td>\n",
       "    </tr>\n",
       "  </tbody>\n",
       "</table>\n",
       "</div>"
      ],
      "text/plain": [
       "      QuestionID                                    Question DocumentID  \\\n",
       "5225        Q514     how do you know if a volcano is extinct       D179   \n",
       "17785      Q1804  Who wrote the song, \"Just the Way You Are\"      D1706   \n",
       "22709      Q2332                            what is hdmi out      D2195   \n",
       "27558      Q2861    where was the movie unstoppable directed      D2655   \n",
       "12311      Q1229          when did the trojan war take place      D1177   \n",
       "\n",
       "                 DocumentTitle SentenceID  \\\n",
       "5225                   Volcano     D179-9   \n",
       "17785     Just the Way You Are    D1706-9   \n",
       "22709                     HDMI    D2195-7   \n",
       "27558  Unstoppable (2010 film)    D2655-5   \n",
       "12311               Trojan War   D1177-16   \n",
       "\n",
       "                                                Sentence  Label  \\\n",
       "5225   These so-called \" hotspots \", for example Hawa...      0   \n",
       "17785                            In film and television:      0   \n",
       "22709  Production of consumer HDMI products started i...      0   \n",
       "27558  The film was nominated for an Academy Award fo...      0   \n",
       "12311  Whether there is any historical reality behind...      0   \n",
       "\n",
       "                               cleaned_question  \\\n",
       "5225    how do you know if a volcano is extinct   \n",
       "17785   who wrote the song just the way you are   \n",
       "22709                          what is hdmi out   \n",
       "27558  where was the movie unstoppable directed   \n",
       "12311        when did the trojan war take place   \n",
       "\n",
       "                                        cleaned_sentence  \n",
       "5225   these socalled  hotspots  for example hawaii a...  \n",
       "17785                             in film and television  \n",
       "22709  production of consumer hdmi products started i...  \n",
       "27558  the film was nominated for an academy award fo...  \n",
       "12311  whether there is any historical reality behind...  "
      ]
     },
     "execution_count": 28,
     "metadata": {},
     "output_type": "execute_result"
    }
   ],
   "source": [
    "# Display the first few rows of the sampled DataFrame to verify\n",
    "sampled_df.head()"
   ]
  },
  {
   "cell_type": "markdown",
   "metadata": {},
   "source": [
    "# Build a Simple TensorFlow Model\n",
    "Build a simple TensorFlow model for question answering using the sampled data."
   ]
  },
  {
   "cell_type": "code",
   "execution_count": 31,
   "metadata": {},
   "outputs": [
    {
     "data": {
      "text/html": [
       "<pre style=\"white-space:pre;overflow-x:auto;line-height:normal;font-family:Menlo,'DejaVu Sans Mono',consolas,'Courier New',monospace\"><span style=\"font-weight: bold\">Model: \"functional_2\"</span>\n",
       "</pre>\n"
      ],
      "text/plain": [
       "\u001b[1mModel: \"functional_2\"\u001b[0m\n"
      ]
     },
     "metadata": {},
     "output_type": "display_data"
    },
    {
     "data": {
      "text/html": [
       "<pre style=\"white-space:pre;overflow-x:auto;line-height:normal;font-family:Menlo,'DejaVu Sans Mono',consolas,'Courier New',monospace\">┏━━━━━━━━━━━━━━━━━━━━━┳━━━━━━━━━━━━━━━━━━━┳━━━━━━━━━━━━┳━━━━━━━━━━━━━━━━━━━┓\n",
       "┃<span style=\"font-weight: bold\"> Layer (type)        </span>┃<span style=\"font-weight: bold\"> Output Shape      </span>┃<span style=\"font-weight: bold\">    Param # </span>┃<span style=\"font-weight: bold\"> Connected to      </span>┃\n",
       "┡━━━━━━━━━━━━━━━━━━━━━╇━━━━━━━━━━━━━━━━━━━╇━━━━━━━━━━━━╇━━━━━━━━━━━━━━━━━━━┩\n",
       "│ question_input      │ (<span style=\"color: #00d7ff; text-decoration-color: #00d7ff\">None</span>, <span style=\"color: #00af00; text-decoration-color: #00af00\">996</span>)       │          <span style=\"color: #00af00; text-decoration-color: #00af00\">0</span> │ -                 │\n",
       "│ (<span style=\"color: #0087ff; text-decoration-color: #0087ff\">InputLayer</span>)        │                   │            │                   │\n",
       "├─────────────────────┼───────────────────┼────────────┼───────────────────┤\n",
       "│ sentence_input      │ (<span style=\"color: #00d7ff; text-decoration-color: #00d7ff\">None</span>, <span style=\"color: #00af00; text-decoration-color: #00af00\">996</span>)       │          <span style=\"color: #00af00; text-decoration-color: #00af00\">0</span> │ -                 │\n",
       "│ (<span style=\"color: #0087ff; text-decoration-color: #0087ff\">InputLayer</span>)        │                   │            │                   │\n",
       "├─────────────────────┼───────────────────┼────────────┼───────────────────┤\n",
       "│ embedding_2         │ (<span style=\"color: #00d7ff; text-decoration-color: #00d7ff\">None</span>, <span style=\"color: #00af00; text-decoration-color: #00af00\">996</span>, <span style=\"color: #00af00; text-decoration-color: #00af00\">128</span>)  │  <span style=\"color: #00af00; text-decoration-color: #00af00\">4,957,056</span> │ question_input[<span style=\"color: #00af00; text-decoration-color: #00af00\">0</span>… │\n",
       "│ (<span style=\"color: #0087ff; text-decoration-color: #0087ff\">Embedding</span>)         │                   │            │ sentence_input[<span style=\"color: #00af00; text-decoration-color: #00af00\">0</span>… │\n",
       "├─────────────────────┼───────────────────┼────────────┼───────────────────┤\n",
       "│ lstm_2 (<span style=\"color: #0087ff; text-decoration-color: #0087ff\">LSTM</span>)       │ (<span style=\"color: #00d7ff; text-decoration-color: #00d7ff\">None</span>, <span style=\"color: #00af00; text-decoration-color: #00af00\">64</span>)        │     <span style=\"color: #00af00; text-decoration-color: #00af00\">49,408</span> │ embedding_2[<span style=\"color: #00af00; text-decoration-color: #00af00\">0</span>][<span style=\"color: #00af00; text-decoration-color: #00af00\">0</span>… │\n",
       "│                     │                   │            │ embedding_2[<span style=\"color: #00af00; text-decoration-color: #00af00\">1</span>][<span style=\"color: #00af00; text-decoration-color: #00af00\">0</span>] │\n",
       "├─────────────────────┼───────────────────┼────────────┼───────────────────┤\n",
       "│ concatenate_2       │ (<span style=\"color: #00d7ff; text-decoration-color: #00d7ff\">None</span>, <span style=\"color: #00af00; text-decoration-color: #00af00\">128</span>)       │          <span style=\"color: #00af00; text-decoration-color: #00af00\">0</span> │ lstm_2[<span style=\"color: #00af00; text-decoration-color: #00af00\">0</span>][<span style=\"color: #00af00; text-decoration-color: #00af00\">0</span>],     │\n",
       "│ (<span style=\"color: #0087ff; text-decoration-color: #0087ff\">Concatenate</span>)       │                   │            │ lstm_2[<span style=\"color: #00af00; text-decoration-color: #00af00\">1</span>][<span style=\"color: #00af00; text-decoration-color: #00af00\">0</span>]      │\n",
       "├─────────────────────┼───────────────────┼────────────┼───────────────────┤\n",
       "│ dense_2 (<span style=\"color: #0087ff; text-decoration-color: #0087ff\">Dense</span>)     │ (<span style=\"color: #00d7ff; text-decoration-color: #00d7ff\">None</span>, <span style=\"color: #00af00; text-decoration-color: #00af00\">1</span>)         │        <span style=\"color: #00af00; text-decoration-color: #00af00\">129</span> │ concatenate_2[<span style=\"color: #00af00; text-decoration-color: #00af00\">0</span>]… │\n",
       "└─────────────────────┴───────────────────┴────────────┴───────────────────┘\n",
       "</pre>\n"
      ],
      "text/plain": [
       "┏━━━━━━━━━━━━━━━━━━━━━┳━━━━━━━━━━━━━━━━━━━┳━━━━━━━━━━━━┳━━━━━━━━━━━━━━━━━━━┓\n",
       "┃\u001b[1m \u001b[0m\u001b[1mLayer (type)       \u001b[0m\u001b[1m \u001b[0m┃\u001b[1m \u001b[0m\u001b[1mOutput Shape     \u001b[0m\u001b[1m \u001b[0m┃\u001b[1m \u001b[0m\u001b[1m   Param #\u001b[0m\u001b[1m \u001b[0m┃\u001b[1m \u001b[0m\u001b[1mConnected to     \u001b[0m\u001b[1m \u001b[0m┃\n",
       "┡━━━━━━━━━━━━━━━━━━━━━╇━━━━━━━━━━━━━━━━━━━╇━━━━━━━━━━━━╇━━━━━━━━━━━━━━━━━━━┩\n",
       "│ question_input      │ (\u001b[38;5;45mNone\u001b[0m, \u001b[38;5;34m996\u001b[0m)       │          \u001b[38;5;34m0\u001b[0m │ -                 │\n",
       "│ (\u001b[38;5;33mInputLayer\u001b[0m)        │                   │            │                   │\n",
       "├─────────────────────┼───────────────────┼────────────┼───────────────────┤\n",
       "│ sentence_input      │ (\u001b[38;5;45mNone\u001b[0m, \u001b[38;5;34m996\u001b[0m)       │          \u001b[38;5;34m0\u001b[0m │ -                 │\n",
       "│ (\u001b[38;5;33mInputLayer\u001b[0m)        │                   │            │                   │\n",
       "├─────────────────────┼───────────────────┼────────────┼───────────────────┤\n",
       "│ embedding_2         │ (\u001b[38;5;45mNone\u001b[0m, \u001b[38;5;34m996\u001b[0m, \u001b[38;5;34m128\u001b[0m)  │  \u001b[38;5;34m4,957,056\u001b[0m │ question_input[\u001b[38;5;34m0\u001b[0m… │\n",
       "│ (\u001b[38;5;33mEmbedding\u001b[0m)         │                   │            │ sentence_input[\u001b[38;5;34m0\u001b[0m… │\n",
       "├─────────────────────┼───────────────────┼────────────┼───────────────────┤\n",
       "│ lstm_2 (\u001b[38;5;33mLSTM\u001b[0m)       │ (\u001b[38;5;45mNone\u001b[0m, \u001b[38;5;34m64\u001b[0m)        │     \u001b[38;5;34m49,408\u001b[0m │ embedding_2[\u001b[38;5;34m0\u001b[0m][\u001b[38;5;34m0\u001b[0m… │\n",
       "│                     │                   │            │ embedding_2[\u001b[38;5;34m1\u001b[0m][\u001b[38;5;34m0\u001b[0m] │\n",
       "├─────────────────────┼───────────────────┼────────────┼───────────────────┤\n",
       "│ concatenate_2       │ (\u001b[38;5;45mNone\u001b[0m, \u001b[38;5;34m128\u001b[0m)       │          \u001b[38;5;34m0\u001b[0m │ lstm_2[\u001b[38;5;34m0\u001b[0m][\u001b[38;5;34m0\u001b[0m],     │\n",
       "│ (\u001b[38;5;33mConcatenate\u001b[0m)       │                   │            │ lstm_2[\u001b[38;5;34m1\u001b[0m][\u001b[38;5;34m0\u001b[0m]      │\n",
       "├─────────────────────┼───────────────────┼────────────┼───────────────────┤\n",
       "│ dense_2 (\u001b[38;5;33mDense\u001b[0m)     │ (\u001b[38;5;45mNone\u001b[0m, \u001b[38;5;34m1\u001b[0m)         │        \u001b[38;5;34m129\u001b[0m │ concatenate_2[\u001b[38;5;34m0\u001b[0m]… │\n",
       "└─────────────────────┴───────────────────┴────────────┴───────────────────┘\n"
      ]
     },
     "metadata": {},
     "output_type": "display_data"
    },
    {
     "data": {
      "text/html": [
       "<pre style=\"white-space:pre;overflow-x:auto;line-height:normal;font-family:Menlo,'DejaVu Sans Mono',consolas,'Courier New',monospace\"><span style=\"font-weight: bold\"> Total params: </span><span style=\"color: #00af00; text-decoration-color: #00af00\">5,006,593</span> (19.10 MB)\n",
       "</pre>\n"
      ],
      "text/plain": [
       "\u001b[1m Total params: \u001b[0m\u001b[38;5;34m5,006,593\u001b[0m (19.10 MB)\n"
      ]
     },
     "metadata": {},
     "output_type": "display_data"
    },
    {
     "data": {
      "text/html": [
       "<pre style=\"white-space:pre;overflow-x:auto;line-height:normal;font-family:Menlo,'DejaVu Sans Mono',consolas,'Courier New',monospace\"><span style=\"font-weight: bold\"> Trainable params: </span><span style=\"color: #00af00; text-decoration-color: #00af00\">5,006,593</span> (19.10 MB)\n",
       "</pre>\n"
      ],
      "text/plain": [
       "\u001b[1m Trainable params: \u001b[0m\u001b[38;5;34m5,006,593\u001b[0m (19.10 MB)\n"
      ]
     },
     "metadata": {},
     "output_type": "display_data"
    },
    {
     "data": {
      "text/html": [
       "<pre style=\"white-space:pre;overflow-x:auto;line-height:normal;font-family:Menlo,'DejaVu Sans Mono',consolas,'Courier New',monospace\"><span style=\"font-weight: bold\"> Non-trainable params: </span><span style=\"color: #00af00; text-decoration-color: #00af00\">0</span> (0.00 B)\n",
       "</pre>\n"
      ],
      "text/plain": [
       "\u001b[1m Non-trainable params: \u001b[0m\u001b[38;5;34m0\u001b[0m (0.00 B)\n"
      ]
     },
     "metadata": {},
     "output_type": "display_data"
    },
    {
     "name": "stdout",
     "output_type": "stream",
     "text": [
      "Epoch 1/5\n",
      "\u001b[1m73/73\u001b[0m \u001b[32m━━━━━━━━━━━━━━━━━━━━\u001b[0m\u001b[37m\u001b[0m \u001b[1m18s\u001b[0m 243ms/step - accuracy: 0.9507 - loss: 0.2772 - val_accuracy: 0.9521 - val_loss: 0.1924\n",
      "Epoch 2/5\n",
      "\u001b[1m73/73\u001b[0m \u001b[32m━━━━━━━━━━━━━━━━━━━━\u001b[0m\u001b[37m\u001b[0m \u001b[1m26s\u001b[0m 352ms/step - accuracy: 0.9540 - loss: 0.1884 - val_accuracy: 0.9521 - val_loss: 0.1924\n",
      "Epoch 3/5\n",
      "\u001b[1m73/73\u001b[0m \u001b[32m━━━━━━━━━━━━━━━━━━━━\u001b[0m\u001b[37m\u001b[0m \u001b[1m28s\u001b[0m 384ms/step - accuracy: 0.9543 - loss: 0.1860 - val_accuracy: 0.9521 - val_loss: 0.1925\n",
      "Epoch 4/5\n",
      "\u001b[1m73/73\u001b[0m \u001b[32m━━━━━━━━━━━━━━━━━━━━\u001b[0m\u001b[37m\u001b[0m \u001b[1m27s\u001b[0m 375ms/step - accuracy: 0.9544 - loss: 0.1862 - val_accuracy: 0.9521 - val_loss: 0.1927\n",
      "Epoch 5/5\n",
      "\u001b[1m73/73\u001b[0m \u001b[32m━━━━━━━━━━━━━━━━━━━━\u001b[0m\u001b[37m\u001b[0m \u001b[1m28s\u001b[0m 379ms/step - accuracy: 0.9545 - loss: 0.1862 - val_accuracy: 0.9521 - val_loss: 0.1930\n"
     ]
    },
    {
     "data": {
      "text/plain": [
       "<keras.src.callbacks.history.History at 0x34fc2c3d0>"
      ]
     },
     "execution_count": 31,
     "metadata": {},
     "output_type": "execute_result"
    }
   ],
   "source": [
    "# Build a Simple TensorFlow Model\n",
    "\n",
    "# Define the input layers\n",
    "question_input = Input(shape=(max_length,), dtype='int32', name='question_input')\n",
    "sentence_input = Input(shape=(max_length,), dtype='int32', name='sentence_input')\n",
    "\n",
    "# Define the embedding layer\n",
    "embedding_layer = Embedding(input_dim=len(tokenizer.word_index) + 1, output_dim=128, input_length=max_length)\n",
    "\n",
    "# Embed the inputs\n",
    "question_embedding = embedding_layer(question_input)\n",
    "sentence_embedding = embedding_layer(sentence_input)\n",
    "\n",
    "# Define the LSTM layers\n",
    "shared_lstm = LSTM(64)\n",
    "\n",
    "# Process the embeddings with the LSTM layers\n",
    "question_lstm = shared_lstm(question_embedding)\n",
    "sentence_lstm = shared_lstm(sentence_embedding)\n",
    "\n",
    "# Concatenate the LSTM outputs\n",
    "merged = Concatenate()([question_lstm, sentence_lstm])\n",
    "\n",
    "# Define the output layer\n",
    "output = Dense(1, activation='sigmoid')(merged)\n",
    "\n",
    "# Build the model\n",
    "model = Model(inputs=[question_input, sentence_input], outputs=output)\n",
    "\n",
    "# Compile the model\n",
    "model.compile(optimizer='adam', loss='binary_crossentropy', metrics=['accuracy'])\n",
    "\n",
    "# Display the model summary\n",
    "model.summary()\n",
    "\n",
    "# Prepare the labels\n",
    "labels = sampled_df['Label'].values\n",
    "\n",
    "# Train the model on the sampled data\n",
    "model.fit([sampled_question_padded, sampled_sentence_padded], labels, epochs=5, batch_size=32, validation_split=0.2)"
   ]
  },
  {
   "cell_type": "markdown",
   "metadata": {},
   "source": [
    "# Evaluate Training Speed and Feasibility\n",
    "Train the model on the sampled data and evaluate the training speed and feasibility."
   ]
  },
  {
   "cell_type": "code",
   "execution_count": 32,
   "metadata": {},
   "outputs": [
    {
     "name": "stdout",
     "output_type": "stream",
     "text": [
      "Epoch 1/5\n",
      "\u001b[1m73/73\u001b[0m \u001b[32m━━━━━━━━━━━━━━━━━━━━\u001b[0m\u001b[37m\u001b[0m \u001b[1m26s\u001b[0m 363ms/step - accuracy: 0.9490 - loss: 0.2015 - val_accuracy: 0.9521 - val_loss: 0.1924\n",
      "Epoch 2/5\n",
      "\u001b[1m73/73\u001b[0m \u001b[32m━━━━━━━━━━━━━━━━━━━━\u001b[0m\u001b[37m\u001b[0m \u001b[1m26s\u001b[0m 362ms/step - accuracy: 0.9475 - loss: 0.2068 - val_accuracy: 0.9521 - val_loss: 0.1936\n",
      "Epoch 3/5\n",
      "\u001b[1m73/73\u001b[0m \u001b[32m━━━━━━━━━━━━━━━━━━━━\u001b[0m\u001b[37m\u001b[0m \u001b[1m26s\u001b[0m 361ms/step - accuracy: 0.9587 - loss: 0.1744 - val_accuracy: 0.9521 - val_loss: 0.1924\n",
      "Epoch 4/5\n",
      "\u001b[1m73/73\u001b[0m \u001b[32m━━━━━━━━━━━━━━━━━━━━\u001b[0m\u001b[37m\u001b[0m \u001b[1m26s\u001b[0m 359ms/step - accuracy: 0.9500 - loss: 0.1992 - val_accuracy: 0.9521 - val_loss: 0.1929\n",
      "Epoch 5/5\n",
      "\u001b[1m73/73\u001b[0m \u001b[32m━━━━━━━━━━━━━━━━━━━━\u001b[0m\u001b[37m\u001b[0m \u001b[1m27s\u001b[0m 371ms/step - accuracy: 0.9503 - loss: 0.1985 - val_accuracy: 0.9521 - val_loss: 0.1927\n",
      "Training duration: 132.54914689064026 seconds\n",
      "Validation Loss: 0.189545139670372\n",
      "Validation Accuracy: 0.9530822038650513\n"
     ]
    },
    {
     "data": {
      "image/png": "[encoded data removed]",
      "text/plain": [
       "<Figure size 1200x400 with 2 Axes>"
      ]
     },
     "metadata": {},
     "output_type": "display_data"
    }
   ],
   "source": [
    "# Evaluate Training Speed and Feasibility\n",
    "\n",
    "# Record the start time\n",
    "start_time = time.time()\n",
    "\n",
    "# Train the model on the sampled data\n",
    "history = model.fit([sampled_question_padded, sampled_sentence_padded], labels, epochs=5, batch_size=32, validation_split=0.2)\n",
    "\n",
    "# Record the end time\n",
    "end_time = time.time()\n",
    "\n",
    "# Calculate the training duration\n",
    "training_duration = end_time - start_time\n",
    "print(f'Training duration: {training_duration} seconds')\n",
    "\n",
    "# Evaluate the model on the validation set\n",
    "val_loss, val_accuracy = model.evaluate([sampled_question_padded, sampled_sentence_padded], labels, verbose=0)\n",
    "print(f'Validation Loss: {val_loss}')\n",
    "print(f'Validation Accuracy: {val_accuracy}')\n",
    "\n",
    "# Plot training & validation accuracy values\n",
    "plt.figure(figsize=(12, 4))\n",
    "plt.subplot(1, 2, 1)\n",
    "plt.plot(history.history['accuracy'])\n",
    "plt.plot(history.history['val_accuracy'])\n",
    "plt.title('Model accuracy')\n",
    "plt.ylabel('Accuracy')\n",
    "plt.xlabel('Epoch')\n",
    "plt.legend(['Train', 'Validation'], loc='upper left')\n",
    "\n",
    "# Plot training & validation loss values\n",
    "plt.subplot(1, 2, 2)\n",
    "plt.plot(history.history['loss'])\n",
    "plt.plot(history.history['val_loss'])\n",
    "plt.title('Model loss')\n",
    "plt.ylabel('Loss')\n",
    "plt.xlabel('Epoch')\n",
    "plt.legend(['Train', 'Validation'], loc='upper left')\n",
    "\n",
    "plt.show()"
   ]
  }
 ],
 "metadata": {
  "kernelspec": {
   "display_name": "3.10.0",
   "language": "python",
   "name": "python3"
  },
  "language_info": {
   "codemirror_mode": {
    "name": "ipython",
    "version": 3
   },
   "file_extension": ".py",
   "mimetype": "text/x-python",
   "name": "python",
   "nbconvert_exporter": "python",
   "pygments_lexer": "ipython3",
   "version": "3.10.0"
  }
 },
 "nbformat": 4,
 "nbformat_minor": 2
}
